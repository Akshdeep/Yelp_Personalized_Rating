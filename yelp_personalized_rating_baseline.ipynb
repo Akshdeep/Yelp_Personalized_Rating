{
 "cells": [
  {
   "cell_type": "code",
   "execution_count": 38,
   "metadata": {},
   "outputs": [],
   "source": [
    "import pandas "
   ]
  },
  {
   "cell_type": "markdown",
   "metadata": {},
   "source": [
    "Retrieving business, training and testing reviews dataframe from pickle"
   ]
  },
  {
   "cell_type": "code",
   "execution_count": 39,
   "metadata": {},
   "outputs": [],
   "source": [
    "business_df = pandas.read_pickle('business.pkl')\n",
    "review_df = pandas.read_pickle('reviews_filtered.pkl')"
   ]
  },
  {
   "cell_type": "code",
   "execution_count": 59,
   "metadata": {},
   "outputs": [
    {
     "name": "stdout",
     "output_type": "stream",
     "text": [
      "KFold(n_splits=4, random_state=None, shuffle=False)\n"
     ]
    }
   ],
   "source": [
    "from sklearn.model_selection import KFold \n",
    "kf = KFold(n_splits=4) \n",
    "kf.get_n_splits(review_df)  \n",
    "print(kf)   \n",
    "KFold(n_splits=4, random_state=None, shuffle=False)\n",
    "results = []\n",
    "for train_index, test_index in kf.split(review_df): \n",
    "    results.append([train_index,test_index])\n",
    "train_index, test_index = results[3]\n",
    "review_train_df, review_test_df = review_df.iloc[train_index], review_df.iloc[test_index]"
   ]
  },
  {
   "cell_type": "markdown",
   "metadata": {},
   "source": [
    "Calculating overall rating average and average of ratings by a particular user and for a particular business"
   ]
  },
  {
   "cell_type": "code",
   "execution_count": 60,
   "metadata": {},
   "outputs": [],
   "source": [
    "overall_avg_rating = review_train_df[\"stars\"].mean() #average of all the ratings in the dataset\n",
    "avg_user_rating_df = review_train_df.groupby([\"user_id\"]).mean() #average of all the ratings by a particular user\n",
    "avg_business_rating_df = review_train_df.groupby([\"business_id\"]).mean() #average of all the ratings for a particular business"
   ]
  },
  {
   "cell_type": "markdown",
   "metadata": {},
   "source": [
    "Calculating rating by a particular user for a particular business by baseline approach"
   ]
  },
  {
   "cell_type": "code",
   "execution_count": 61,
   "metadata": {},
   "outputs": [],
   "source": [
    "def calc_rating_baseline(user_id, business_id):\n",
    "    user_bias = 0\n",
    "    business_bias = 0\n",
    "    user_rating = avg_user_rating_df[avg_user_rating_df.index == user_id][\"stars\"]\n",
    "    if not user_rating.empty:\n",
    "        user_bias = user_rating.item() - overall_avg_rating\n",
    "    business_rating = avg_business_rating_df[avg_business_rating_df.index == business_id][\"stars\"]\n",
    "    if not business_rating.empty:\n",
    "        business_bias = business_rating.item() - overall_avg_rating\n",
    "    return overall_avg_rating + user_bias + business_bias"
   ]
  },
  {
   "cell_type": "markdown",
   "metadata": {},
   "source": [
    "Calculating user to business ratings for the held out test dataset"
   ]
  },
  {
   "cell_type": "code",
   "execution_count": 62,
   "metadata": {},
   "outputs": [],
   "source": [
    "review_test_result_df = review_test_df.copy(deep = True)\n",
    "review_test_result_df[\"stars\"] = 0"
   ]
  },
  {
   "cell_type": "code",
   "execution_count": 63,
   "metadata": {},
   "outputs": [],
   "source": [
    "review_test_result_df['stars'] = review_test_df.apply(lambda x: calc_rating_baseline(x[0], x[1]),axis = 1)"
   ]
  },
  {
   "cell_type": "markdown",
   "metadata": {},
   "source": [
    "Save baseline results to pickle"
   ]
  },
  {
   "cell_type": "code",
   "execution_count": 64,
   "metadata": {},
   "outputs": [],
   "source": [
    "review_test_result_df.to_pickle(\"./baseline_results.pkl\")"
   ]
  },
  {
   "cell_type": "markdown",
   "metadata": {},
   "source": [
    "Calculating RMSE for the baseline results"
   ]
  },
  {
   "cell_type": "code",
   "execution_count": 71,
   "metadata": {},
   "outputs": [
    {
     "data": {
      "text/plain": [
       "1.08422565507338"
      ]
     },
     "execution_count": 71,
     "metadata": {},
     "output_type": "execute_result"
    }
   ],
   "source": [
    "def calc_RMSE():\n",
    "    return ((review_test_result_df.stars - review_test_df.stars) ** 2).mean() ** 0.5\n",
    "result = calc_RMSE()\n",
    "result"
   ]
  }
 ],
 "metadata": {
  "kernelspec": {
   "display_name": "Python 3",
   "language": "python",
   "name": "python3"
  },
  "language_info": {
   "codemirror_mode": {
    "name": "ipython",
    "version": 3
   },
   "file_extension": ".py",
   "mimetype": "text/x-python",
   "name": "python",
   "nbconvert_exporter": "python",
   "pygments_lexer": "ipython3",
   "version": "3.6.4"
  }
 },
 "nbformat": 4,
 "nbformat_minor": 2
}
