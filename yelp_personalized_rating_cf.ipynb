{
 "cells": [
  {
   "cell_type": "code",
   "execution_count": 508,
   "metadata": {},
   "outputs": [],
   "source": [
    "import pandas\n",
    "import numpy as np\n",
    "from sklearn.neighbors import KDTree,BallTree,NearestNeighbors\n",
    "from scipy import spatial\n",
    "import math\n",
    "%matplotlib inline\n",
    "import matplotlib\n",
    "import matplotlib.pyplot as plt\n",
    "import numpy as np"
   ]
  },
  {
   "cell_type": "markdown",
   "metadata": {},
   "source": [
    "Retrieving business, training and testing reviews dataframe from pickle"
   ]
  },
  {
   "cell_type": "code",
   "execution_count": 509,
   "metadata": {},
   "outputs": [],
   "source": [
    "business_df = pandas.read_pickle('business.pkl')\n",
    "review_df = pandas.read_pickle('reviews_filtered.pkl')"
   ]
  },
  {
   "cell_type": "markdown",
   "metadata": {},
   "source": [
    "Setting the data for 4-fold cross validation"
   ]
  },
  {
   "cell_type": "code",
   "execution_count": 513,
   "metadata": {},
   "outputs": [
    {
     "name": "stdout",
     "output_type": "stream",
     "text": [
      "KFold(n_splits=4, random_state=None, shuffle=False)\n"
     ]
    }
   ],
   "source": [
    "from sklearn.model_selection import KFold \n",
    "kf = KFold(n_splits=4) \n",
    "kf.get_n_splits(review_df)  \n",
    "print(kf)   \n",
    "KFold(n_splits=4, random_state=None, shuffle=False)\n",
    "results = []\n",
    "for train_index, test_index in kf.split(review_df): \n",
    "    results.append([train_index,test_index])\n",
    "train_index, test_index = results[2]\n",
    "review_train_df, review_test_df = review_df.iloc[train_index], review_df.iloc[test_index]"
   ]
  },
  {
   "cell_type": "markdown",
   "metadata": {},
   "source": [
    "Calculating overall rating average and average of ratings by a particular user and for a particular business"
   ]
  },
  {
   "cell_type": "code",
   "execution_count": 514,
   "metadata": {},
   "outputs": [],
   "source": [
    "overall_avg_rating = review_train_df[\"stars\"].mean() #average of all the ratings in the dataset\n",
    "avg_user_rating_df = review_train_df.groupby([\"user_id\"]).mean() #average of all the ratings by a particular user\n",
    "avg_business_rating_df = review_train_df.groupby([\"business_id\"]).mean() #average of all the ratings for a particular business"
   ]
  },
  {
   "cell_type": "markdown",
   "metadata": {},
   "source": [
    "Calculating rating by a particular user for a particular business by baseline approach"
   ]
  },
  {
   "cell_type": "code",
   "execution_count": 515,
   "metadata": {},
   "outputs": [],
   "source": [
    "def calc_rating_baseline(user_id, business_id):\n",
    "    user_bias = 0\n",
    "    business_bias = 0\n",
    "    user_rating = avg_user_rating_df[avg_user_rating_df.index == user_id][\"stars\"]\n",
    "    if not user_rating.empty:\n",
    "        user_bias = user_rating.item() - overall_avg_rating\n",
    "    business_rating = avg_business_rating_df[avg_business_rating_df.index == business_id][\"stars\"]\n",
    "    if not business_rating.empty:\n",
    "        business_bias = business_rating.item() - overall_avg_rating\n",
    "    return overall_avg_rating + user_bias + business_bias"
   ]
  },
  {
   "cell_type": "markdown",
   "metadata": {},
   "source": [
    "Hash user ids to matrix indices"
   ]
  },
  {
   "cell_type": "code",
   "execution_count": 516,
   "metadata": {},
   "outputs": [],
   "source": [
    "user_id_hash = {}\n",
    "user_ids = review_train_df[\"user_id\"].unique()\n",
    "for i,v in enumerate(user_ids):\n",
    "    user_id_hash[v] = i"
   ]
  },
  {
   "cell_type": "markdown",
   "metadata": {},
   "source": [
    "Hash business ids to matrix indices"
   ]
  },
  {
   "cell_type": "code",
   "execution_count": 517,
   "metadata": {},
   "outputs": [],
   "source": [
    "business_id_hash = {}\n",
    "business_ids = review_train_df[\"business_id\"].unique()\n",
    "for i,v in enumerate(business_ids):\n",
    "    business_id_hash[v] = i"
   ]
  },
  {
   "cell_type": "markdown",
   "metadata": {},
   "source": [
    "Create utility matrix"
   ]
  },
  {
   "cell_type": "code",
   "execution_count": 518,
   "metadata": {},
   "outputs": [],
   "source": [
    "R = len(review_train_df[\"business_id\"].unique())\n",
    "C = len(review_train_df[\"user_id\"].unique())\n",
    "U = np.empty((R,C))\n",
    "U[:] = np.nan"
   ]
  },
  {
   "cell_type": "code",
   "execution_count": 519,
   "metadata": {},
   "outputs": [],
   "source": [
    "def populate_U(business_id,user_id,rating):\n",
    "    U[business_id_hash[business_id],user_id_hash[user_id]] = rating"
   ]
  },
  {
   "cell_type": "markdown",
   "metadata": {},
   "source": [
    "Populate utility matrix"
   ]
  },
  {
   "cell_type": "code",
   "execution_count": 520,
   "metadata": {},
   "outputs": [
    {
     "data": {
      "text/plain": [
       "197        None\n",
       "198        None\n",
       "205        None\n",
       "206        None\n",
       "211        None\n",
       "214        None\n",
       "221        None\n",
       "222        None\n",
       "226        None\n",
       "232        None\n",
       "239        None\n",
       "257        None\n",
       "2376       None\n",
       "2379       None\n",
       "2382       None\n",
       "2384       None\n",
       "2387       None\n",
       "2388       None\n",
       "2390       None\n",
       "2393       None\n",
       "2395       None\n",
       "2396       None\n",
       "2397       None\n",
       "8832       None\n",
       "8836       None\n",
       "8837       None\n",
       "8838       None\n",
       "8840       None\n",
       "8847       None\n",
       "8848       None\n",
       "           ... \n",
       "5996070    None\n",
       "5996087    None\n",
       "5996092    None\n",
       "5996093    None\n",
       "5996094    None\n",
       "5996095    None\n",
       "5996097    None\n",
       "5996099    None\n",
       "5996105    None\n",
       "5996112    None\n",
       "5996121    None\n",
       "5996123    None\n",
       "5996128    None\n",
       "5996139    None\n",
       "5996143    None\n",
       "5996149    None\n",
       "5996151    None\n",
       "5996153    None\n",
       "5996652    None\n",
       "5996659    None\n",
       "5996663    None\n",
       "5996668    None\n",
       "5996669    None\n",
       "5996670    None\n",
       "5996672    None\n",
       "5996676    None\n",
       "5996683    None\n",
       "5996689    None\n",
       "5996695    None\n",
       "5996699    None\n",
       "Length: 13976, dtype: object"
      ]
     },
     "execution_count": 520,
     "metadata": {},
     "output_type": "execute_result"
    }
   ],
   "source": [
    "review_train_df.apply(lambda x: populate_U(x.business_id,x.user_id,x.stars),axis = 1)"
   ]
  },
  {
   "cell_type": "markdown",
   "metadata": {},
   "source": [
    "Calculating row mean for every row (ratings for every item) excluding nan values which represent no rating"
   ]
  },
  {
   "cell_type": "code",
   "execution_count": 521,
   "metadata": {},
   "outputs": [],
   "source": [
    "row_means = np.nanmean(U, axis=1)"
   ]
  },
  {
   "cell_type": "markdown",
   "metadata": {},
   "source": [
    "Centering rating for every business around its mean rating"
   ]
  },
  {
   "cell_type": "code",
   "execution_count": 522,
   "metadata": {},
   "outputs": [],
   "source": [
    "row_means_col_vec = row_means.reshape((len(U), 1))\n",
    "centered_U = U - row_means_col_vec\n",
    "centered_U = np.nan_to_num(centered_U)"
   ]
  },
  {
   "cell_type": "code",
   "execution_count": 523,
   "metadata": {},
   "outputs": [],
   "source": [
    "def cosine_dist(v1,v2):\n",
    "    return spatial.distance.correlation(v1,v2)"
   ]
  },
  {
   "cell_type": "markdown",
   "metadata": {},
   "source": [
    "Computing the k nearest neighbors of each restaurant along with their distances"
   ]
  },
  {
   "cell_type": "code",
   "execution_count": 524,
   "metadata": {},
   "outputs": [
    {
     "name": "stderr",
     "output_type": "stream",
     "text": [
      "C:\\Users\\kevin\\Anaconda3\\lib\\site-packages\\scipy\\spatial\\distance.py:644: RuntimeWarning: invalid value encountered in double_scalars\n",
      "  dist = 1.0 - uv / np.sqrt(uu * vv)\n"
     ]
    }
   ],
   "source": [
    "tree = NearestNeighbors(algorithm = 'ball_tree', metric = cosine_dist,n_neighbors=len(centered_U)).fit(centered_U)"
   ]
  },
  {
   "cell_type": "code",
   "execution_count": 525,
   "metadata": {},
   "outputs": [
    {
     "name": "stderr",
     "output_type": "stream",
     "text": [
      "C:\\Users\\kevin\\Anaconda3\\lib\\site-packages\\scipy\\spatial\\distance.py:644: RuntimeWarning: invalid value encountered in double_scalars\n",
      "  dist = 1.0 - uv / np.sqrt(uu * vv)\n"
     ]
    },
    {
     "data": {
      "text/plain": [
       "(array([[0.        , 0.74831137, 0.78823669, ...,        inf,        inf,\n",
       "                inf],\n",
       "        [0.        , 0.65828714, 0.68418319, ...,        inf,        inf,\n",
       "                inf],\n",
       "        [0.        , 0.701519  , 0.74338032, ...,        inf,        inf,\n",
       "                inf],\n",
       "        ...,\n",
       "        [       inf,        inf,        inf, ...,        inf,        inf,\n",
       "                inf],\n",
       "        [       inf,        inf,        inf, ...,        inf,        inf,\n",
       "                inf],\n",
       "        [       inf,        inf,        inf, ...,        inf,        inf,\n",
       "                inf]]), array([[  0, 945, 453, ...,   0,   0,   0],\n",
       "        [  1, 464, 466, ...,   0,   0,   0],\n",
       "        [  2, 259, 375, ...,   0,   0,   0],\n",
       "        ...,\n",
       "        [  0,   0,   0, ...,   0,   0,   0],\n",
       "        [  0,   0,   0, ...,   0,   0,   0],\n",
       "        [  0,   0,   0, ...,   0,   0,   0]], dtype=int64))"
      ]
     },
     "execution_count": 525,
     "metadata": {},
     "output_type": "execute_result"
    }
   ],
   "source": [
    "dist,indices = tree.kneighbors(centered_U)\n",
    "dist,indices"
   ]
  },
  {
   "cell_type": "markdown",
   "metadata": {},
   "source": [
    "Calculating rating by a particular user for a particular business by just item item collaborative filtering approach"
   ]
  },
  {
   "cell_type": "code",
   "execution_count": 526,
   "metadata": {},
   "outputs": [],
   "source": [
    "def calc_rating_cf(user_id,business_id,k):\n",
    "    if user_id not in user_id_hash or business_id not in business_id_hash:\n",
    "         return calc_rating_baseline(user_id,business_id)\n",
    "    result = 0\n",
    "    sim_sum = 0\n",
    "    u = user_id_hash[user_id]\n",
    "    b = business_id_hash[business_id]\n",
    "    distances = dist[b]\n",
    "    sim_items = indices[b]\n",
    "    i = 0\n",
    "    j = 1\n",
    "    while j < len(distances):\n",
    "        if not math.isnan(U[sim_items[j],u]):\n",
    "            temp = business_ids[sim_items[j]]\n",
    "            result += (1 - distances[j]) * (U[sim_items[j],u])\n",
    "            sim_sum += (1 - distances[j])\n",
    "            i += 1\n",
    "        if i == k:\n",
    "            break\n",
    "        j += 1\n",
    "        \n",
    "    if result == 0 or sim_sum == 0:\n",
    "        return calc_rating_baseline(user_id,business_id)\n",
    "    return result/sim_sum"
   ]
  },
  {
   "cell_type": "markdown",
   "metadata": {},
   "source": [
    "Collaborative filtering in CF + baseline model"
   ]
  },
  {
   "cell_type": "code",
   "execution_count": 527,
   "metadata": {},
   "outputs": [],
   "source": [
    "def calc_rating_cf_common(user_id,business_id,k):\n",
    "    if user_id not in user_id_hash or business_id not in business_id_hash:\n",
    "         return 0\n",
    "    result = 0\n",
    "    sim_sum = 0\n",
    "    u = user_id_hash[user_id]\n",
    "    b = business_id_hash[business_id]\n",
    "    distances = dist[b]\n",
    "    sim_items = indices[b]\n",
    "    i = 0\n",
    "    j = 1\n",
    "    while j < len(distances):\n",
    "        if not math.isnan(U[sim_items[j],u]):\n",
    "            temp = business_ids[sim_items[j]]\n",
    "            result += (1 - distances[j]) * (U[sim_items[j],u] - calc_rating_baseline(user_id,temp))\n",
    "            sim_sum += (1 - distances[j])\n",
    "            i += 1\n",
    "        if i == k:\n",
    "            break\n",
    "        j += 1\n",
    "        \n",
    "    if result == 0 or sim_sum == 0:\n",
    "        return 0\n",
    "    return result/sim_sum"
   ]
  },
  {
   "cell_type": "markdown",
   "metadata": {},
   "source": [
    "Calculating rating by a particular user for a particular business by baseline plus item item collaborative filtering approach"
   ]
  },
  {
   "cell_type": "code",
   "execution_count": 528,
   "metadata": {},
   "outputs": [],
   "source": [
    "def calc_rating_baseline_cf(user_id,business_id,k):\n",
    "    return calc_rating_baseline(user_id,business_id) + calc_rating_cf_common(user_id,business_id,k)"
   ]
  },
  {
   "cell_type": "markdown",
   "metadata": {},
   "source": [
    "Calculating user to business ratings for the held out test dataset"
   ]
  },
  {
   "cell_type": "code",
   "execution_count": 550,
   "metadata": {},
   "outputs": [],
   "source": [
    "review_test_result_df = review_test_df.copy(deep = True)\n",
    "review_test_result_df[\"stars\"] = 0"
   ]
  },
  {
   "cell_type": "code",
   "execution_count": 555,
   "metadata": {},
   "outputs": [
    {
     "name": "stderr",
     "output_type": "stream",
     "text": [
      "C:\\Users\\kevin\\Anaconda3\\lib\\site-packages\\ipykernel_launcher.py:24: RuntimeWarning: invalid value encountered in double_scalars\n"
     ]
    }
   ],
   "source": [
    "review_test_result_df['stars'] = review_test_result_df.apply(lambda x: calc_rating_baseline_cf(x[0], x[1],13),axis = 1)"
   ]
  },
  {
   "cell_type": "markdown",
   "metadata": {},
   "source": [
    "Calculating RMSE"
   ]
  },
  {
   "cell_type": "code",
   "execution_count": 556,
   "metadata": {},
   "outputs": [
    {
     "data": {
      "text/plain": [
       "4.870348568185751"
      ]
     },
     "execution_count": 556,
     "metadata": {},
     "output_type": "execute_result"
    }
   ],
   "source": [
    "def calc_RMSE():\n",
    "    return ((review_test_result_df.stars - review_test_df.stars) ** 2).mean() ** 0.5\n",
    "result = calc_RMSE()\n",
    "result"
   ]
  },
  {
   "cell_type": "markdown",
   "metadata": {},
   "source": [
    "Calculating average RMSE over 4 folds"
   ]
  },
  {
   "cell_type": "code",
   "execution_count": 487,
   "metadata": {},
   "outputs": [
    {
     "data": {
      "text/plain": [
       "(1.07225, 1.07325, 1.06925)"
      ]
     },
     "execution_count": 487,
     "metadata": {},
     "output_type": "execute_result"
    }
   ],
   "source": [
    "import statistics\n",
    "baseline = [1.096,1.084,1.024,1.085]\n",
    "cf = [1.094,1.088,1.021,1.090]\n",
    "baseline_cf = [1.08,1.018,1.086,1.093]\n",
    "baseline_RMSE = statistics.mean(baseline)\n",
    "cf_RMSE = statistics.mean(cf)\n",
    "baseline_cf_RMSE = statistics.mean(baseline_cf)\n",
    "baseline_RMSE,cf_RMSE,baseline_cf_RMSE"
   ]
  }
 ],
 "metadata": {
  "kernelspec": {
   "display_name": "Python 3",
   "language": "python",
   "name": "python3"
  },
  "language_info": {
   "codemirror_mode": {
    "name": "ipython",
    "version": 3
   },
   "file_extension": ".py",
   "mimetype": "text/x-python",
   "name": "python",
   "nbconvert_exporter": "python",
   "pygments_lexer": "ipython3",
   "version": "3.6.4"
  }
 },
 "nbformat": 4,
 "nbformat_minor": 2
}
