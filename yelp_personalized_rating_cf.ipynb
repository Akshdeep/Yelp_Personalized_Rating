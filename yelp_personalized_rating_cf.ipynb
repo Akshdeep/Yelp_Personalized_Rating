{
 "cells": [
  {
   "cell_type": "code",
   "execution_count": 1,
   "metadata": {},
   "outputs": [],
   "source": [
    "import pandas\n",
    "import numpy as np"
   ]
  },
  {
   "cell_type": "markdown",
   "metadata": {},
   "source": [
    "Retrieving business, training and testing reviews dataframe from pickle"
   ]
  },
  {
   "cell_type": "code",
   "execution_count": 2,
   "metadata": {},
   "outputs": [],
   "source": [
    "business_df = pandas.read_pickle('business.pkl')\n",
    "review_train_df = pandas.read_pickle('reviews_train.pkl')\n",
    "review_test_df = pandas.read_pickle('reviews_test.pkl')"
   ]
  },
  {
   "cell_type": "markdown",
   "metadata": {},
   "source": [
    "Calculating mean rating of each user and restaurant in a dataframe"
   ]
  },
  {
   "cell_type": "code",
   "execution_count": 3,
   "metadata": {},
   "outputs": [],
   "source": [
    "avg_user_rating_df = review_train_df.groupby([\"user_id\"]).mean() #average of all the ratings by a particular user\n",
    "avg_business_rating_df = review_train_df.groupby([\"business_id\"]).mean() #average of all the ratings for a particular business"
   ]
  },
  {
   "cell_type": "markdown",
   "metadata": {},
   "source": [
    "Hash user ids to matrix indices"
   ]
  },
  {
   "cell_type": "code",
   "execution_count": 4,
   "metadata": {},
   "outputs": [],
   "source": [
    "user_id_hash = {}\n",
    "user_ids = review_train_df[\"user_id\"].unique()\n",
    "for i,v in enumerate(user_ids):\n",
    "    user_id_hash[v] = i"
   ]
  },
  {
   "cell_type": "markdown",
   "metadata": {},
   "source": [
    "Hash business ids to matrix indices"
   ]
  },
  {
   "cell_type": "code",
   "execution_count": 5,
   "metadata": {},
   "outputs": [],
   "source": [
    "business_id_hash = {}\n",
    "business_ids = review_train_df[\"business_id\"].unique()\n",
    "for i,v in enumerate(business_ids):\n",
    "    business_id_hash[v] = i"
   ]
  },
  {
   "cell_type": "markdown",
   "metadata": {},
   "source": [
    "Create utility matrix"
   ]
  },
  {
   "cell_type": "code",
   "execution_count": 6,
   "metadata": {},
   "outputs": [],
   "source": [
    "R = len(review_train_df[\"business_id\"].unique())\n",
    "C = len(review_train_df[\"user_id\"].unique())\n",
    "U = np.empty((R,C))\n",
    "U[:] = np.nan"
   ]
  },
  {
   "cell_type": "code",
   "execution_count": 7,
   "metadata": {},
   "outputs": [],
   "source": [
    "def populate_U(business_id,user_id,rating):\n",
    "    U[business_id_hash[business_id],user_id_hash[user_id]] = rating"
   ]
  },
  {
   "cell_type": "markdown",
   "metadata": {},
   "source": [
    "Populate utility matrix"
   ]
  },
  {
   "cell_type": "code",
   "execution_count": 8,
   "metadata": {},
   "outputs": [
    {
     "data": {
      "text/plain": [
       "3562529    None\n",
       "2754594    None\n",
       "1897001    None\n",
       "1907883    None\n",
       "3857585    None\n",
       "4880337    None\n",
       "4913059    None\n",
       "1923776    None\n",
       "5698276    None\n",
       "4935296    None\n",
       "5467597    None\n",
       "1898143    None\n",
       "4261037    None\n",
       "2890068    None\n",
       "3968651    None\n",
       "5527622    None\n",
       "1060883    None\n",
       "1827374    None\n",
       "5961628    None\n",
       "3260708    None\n",
       "825253     None\n",
       "3972541    None\n",
       "4286269    None\n",
       "1675161    None\n",
       "3191235    None\n",
       "2604962    None\n",
       "5202627    None\n",
       "3410603    None\n",
       "4414310    None\n",
       "3928981    None\n",
       "           ... \n",
       "3283934    None\n",
       "1898212    None\n",
       "3592181    None\n",
       "2902069    None\n",
       "3446399    None\n",
       "4205765    None\n",
       "2848846    None\n",
       "4148538    None\n",
       "3548395    None\n",
       "1445398    None\n",
       "4227317    None\n",
       "1134243    None\n",
       "3705608    None\n",
       "2823989    None\n",
       "2658182    None\n",
       "4811842    None\n",
       "4672945    None\n",
       "1702837    None\n",
       "5224278    None\n",
       "5641665    None\n",
       "2271982    None\n",
       "1326890    None\n",
       "2995707    None\n",
       "1966357    None\n",
       "2061353    None\n",
       "3516266    None\n",
       "4590444    None\n",
       "2215095    None\n",
       "2367196    None\n",
       "2091795    None\n",
       "Length: 409051, dtype: object"
      ]
     },
     "execution_count": 8,
     "metadata": {},
     "output_type": "execute_result"
    }
   ],
   "source": [
    "review_train_df.apply(lambda x: populate_U(x.business_id,x.user_id,x.stars),axis = 1)"
   ]
  },
  {
   "cell_type": "markdown",
   "metadata": {},
   "source": [
    "Calculating row mean for every row (ratings for every item) excluding nan values which represent no rating"
   ]
  },
  {
   "cell_type": "code",
   "execution_count": 9,
   "metadata": {},
   "outputs": [],
   "source": [
    "row_means = np.nanmean(U, axis=1)"
   ]
  },
  {
   "cell_type": "markdown",
   "metadata": {},
   "source": [
    "Centering rating for every business around its mean rating"
   ]
  },
  {
   "cell_type": "code",
   "execution_count": null,
   "metadata": {},
   "outputs": [],
   "source": [
    "row_means_col_vec = row_means.reshape((len(U), 1))\n",
    "centered_U = U - row_means_col_vec\n",
    "centered_U = np.nan_to_num(centered_U)"
   ]
  },
  {
   "cell_type": "markdown",
   "metadata": {},
   "source": [
    "Dumping centered utility matrix to file"
   ]
  },
  {
   "cell_type": "code",
   "execution_count": 18,
   "metadata": {},
   "outputs": [
    {
     "ename": "OverflowError",
     "evalue": "cannot serialize a string larger than 4GiB",
     "output_type": "error",
     "traceback": [
      "\u001b[1;31m---------------------------------------------------------------------------\u001b[0m",
      "\u001b[1;31mOverflowError\u001b[0m                             Traceback (most recent call last)",
      "\u001b[1;32m<ipython-input-18-c5763f9b6f65>\u001b[0m in \u001b[0;36m<module>\u001b[1;34m()\u001b[0m\n\u001b[1;32m----> 1\u001b[1;33m \u001b[0mcentered_U\u001b[0m\u001b[1;33m.\u001b[0m\u001b[0mdump\u001b[0m\u001b[1;33m(\u001b[0m\u001b[1;34m\"centered_U.dat\"\u001b[0m\u001b[1;33m)\u001b[0m\u001b[1;33m\u001b[0m\u001b[0m\n\u001b[0m",
      "\u001b[1;31mOverflowError\u001b[0m: cannot serialize a string larger than 4GiB"
     ]
    }
   ],
   "source": [
    "centered_U.dump(\"centered_U.dat\")"
   ]
  },
  {
   "cell_type": "code",
   "execution_count": 19,
   "metadata": {},
   "outputs": [
    {
     "data": {
      "text/plain": [
       "array([[ 1.09090909,  0.        ,  0.        , ...,  0.        ,\n",
       "         0.        ,  0.        ],\n",
       "       [ 0.        , -0.51515152,  0.        , ...,  0.        ,\n",
       "         0.        ,  0.        ],\n",
       "       [ 0.        ,  0.        ,  1.22099448, ...,  0.        ,\n",
       "         0.        ,  0.        ],\n",
       "       ...,\n",
       "       [ 0.        ,  0.        ,  0.        , ...,  0.        ,\n",
       "         0.        ,  0.        ],\n",
       "       [ 0.        ,  0.        ,  0.        , ...,  0.        ,\n",
       "         0.        ,  0.        ],\n",
       "       [ 0.        ,  0.        ,  0.        , ...,  0.        ,\n",
       "         0.        ,  0.        ]])"
      ]
     },
     "execution_count": 19,
     "metadata": {},
     "output_type": "execute_result"
    }
   ],
   "source": []
  },
  {
   "cell_type": "code",
   "execution_count": null,
   "metadata": {},
   "outputs": [],
   "source": []
  }
 ],
 "metadata": {
  "kernelspec": {
   "display_name": "Python 3",
   "language": "python",
   "name": "python3"
  },
  "language_info": {
   "codemirror_mode": {
    "name": "ipython",
    "version": 3
   },
   "file_extension": ".py",
   "mimetype": "text/x-python",
   "name": "python",
   "nbconvert_exporter": "python",
   "pygments_lexer": "ipython3",
   "version": "3.6.4"
  }
 },
 "nbformat": 4,
 "nbformat_minor": 2
}
